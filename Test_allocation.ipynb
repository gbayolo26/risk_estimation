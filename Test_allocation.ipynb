{
 "cells": [
  {
   "cell_type": "markdown",
   "metadata": {},
   "source": [
    "# Test allocation based on risk of infection from first and second order contact tracing for Covid - 19"
   ]
  },
  {
   "cell_type": "markdown",
   "metadata": {},
   "source": [
    "###  Parameter setting on the Open ABM model"
   ]
  },
  {
   "cell_type": "code",
   "execution_count": 1,
   "metadata": {},
   "outputs": [],
   "source": [
    "n_total = 50000 #number of individuals \n",
    "initial_inf = 10 #number of patients zero\n",
    "T = 100 #number of days\n",
    "seed_open_ABM = 1 # seed for the Open ABM \n",
    "qri = 0 #type of quarantine (1: work, 0: work and random)"
   ]
  },
  {
   "cell_type": "markdown",
   "metadata": {},
   "source": [
    "### Parameter setting on the intervention method"
   ]
  },
  {
   "cell_type": "code",
   "execution_count": 2,
   "metadata": {},
   "outputs": [],
   "source": [
    "t_0 = 12  #time to start the intervention method\n",
    "test_availables = 125 #number of daily tests\n",
    "qh =  False #to quarantine individuals in the same household \n",
    "th = False #to test individuals in the same hoisehold\n",
    "p_SS = 1 #proportion of individuals with severe symptomps self reported by day\n",
    "p_SM = 0.75 #proportion of individuals with mild symptomps self reported by day\n",
    "seed = 2 #seed for the ranking method (different to 1 because seed = 1 is fixed for the random tests) \n",
    "days_of_quarantine = 100 #days of quarantine\n",
    "output_dir = \"./simulation_results/\"\n",
    "time_infection = 'estimation' #type of estimation for the time of infection ('estimation': tau, 'constant': alpha, True: real time of infection)\n",
    "tp_rate = 1 #sensitivity of the tests\n",
    "tn_rate = 1 #specificity of the tests\n",
    "test_symptoms_type = 0  #0: to detect a proportion p of individuals with symptomps, \n",
    "                        #1: to detect individuals following a geometric distribution with parameter p \n",
    "quarantine_adoption_fraction = 1 #probability of each individual adhering to the quarantine"
   ]
  },
  {
   "cell_type": "markdown",
   "metadata": {},
   "source": [
    "### Parameter setting on the contact tracing method"
   ]
  },
  {
   "cell_type": "code",
   "execution_count": 3,
   "metadata": {},
   "outputs": [],
   "source": [
    "prob_function = 'lambda'#probability function('lambda', 'cte': probability constant = 1/2)\n",
    "gamma = 6 #time-frame for the time of infection of the individual at risk\n",
    "zeta = gamma + 3 #time-frame for the time of infection of the 1°contact in 2°CT"
   ]
  },
  {
   "cell_type": "markdown",
   "metadata": {},
   "source": [
    "### Import the intervention model and ranking methods"
   ]
  },
  {
   "cell_type": "code",
   "execution_count": 4,
   "metadata": {},
   "outputs": [],
   "source": [
    "from intervention_strategies.intervention_model import *\n",
    "from intervention_strategies.First_Degree_Contact_Tracing_Risk import *\n",
    "from intervention_strategies.Second_Degree_Contact_Tracing_Risk import *\n",
    "from intervention_strategies.Contact_Tracing import *\n",
    "from intervention_strategies.Random_Selection import *"
   ]
  },
  {
   "cell_type": "markdown",
   "metadata": {},
   "source": [
    "#### Running the 2°CT ranking method"
   ]
  },
  {
   "cell_type": "code",
   "execution_count": 5,
   "metadata": {},
   "outputs": [
    {
     "name": "stdout",
     "output_type": "stream",
     "text": [
      "BREAK: no more infected individuals\n",
      "Total infected at time 100 for 2°CT : 183\n"
     ]
    }
   ],
   "source": [
    "timeseries_sim_2_CT = run_intervention_model(ranked_method = Second_Degree_Contact_Tracing_Risk(gamma = gamma, zeta = zeta, prob_function = prob_function), \n",
    "                                             n_total = n_total, \n",
    "                                             initial_inf = initial_inf,\n",
    "                                             t_0 = t_0,\n",
    "                                             t_end = T,\n",
    "                                             test_availables = test_availables,\n",
    "                                             quarantine_household = qh,                                             \n",
    "                                             test_household = th,\n",
    "                                             p_SS = p_SS,\n",
    "                                             p_SM = p_SM,                                              \n",
    "                                             seed = seed, \n",
    "                                             seed_open_ABM = seed_open_ABM,\n",
    "                                             output_dir= output_dir,\n",
    "                                             time_infection = time_infection,\n",
    "                                             quarantined_random_interactions = qri,\n",
    "                                             quarantine_adoption_fraction = quarantine_adoption_fraction,\n",
    "                                             test_symptoms_type = test_symptoms_type, \n",
    "                                             tp_rate = tp_rate, \n",
    "                                             tn_rate = tn_rate)\n"
   ]
  },
  {
   "cell_type": "markdown",
   "metadata": {},
   "source": [
    "#### Running the 1°CT ranking method"
   ]
  },
  {
   "cell_type": "code",
   "execution_count": 6,
   "metadata": {},
   "outputs": [
    {
     "name": "stdout",
     "output_type": "stream",
     "text": [
      "Total infected at time 100 for 1°CT : 5673\n"
     ]
    }
   ],
   "source": [
    "timeseries_sim_1_CT = run_intervention_model(ranked_method = First_Degree_Contact_Tracing_Risk(gamma = gamma, prob_function = prob_function),  \n",
    "                                             n_total = n_total, \n",
    "                                             initial_inf = initial_inf,\n",
    "                                             t_0 = t_0,\n",
    "                                             t_end = T,\n",
    "                                             test_availables = test_availables,\n",
    "                                             quarantine_household = qh,                                             \n",
    "                                             test_household = th,\n",
    "                                             p_SS = p_SS,\n",
    "                                             p_SM = p_SM,                                              \n",
    "                                             seed = seed, \n",
    "                                             seed_open_ABM = seed_open_ABM,\n",
    "                                             output_dir= output_dir,\n",
    "                                             time_infection = time_infection,\n",
    "                                             quarantined_random_interactions = qri,\n",
    "                                             quarantine_adoption_fraction = quarantine_adoption_fraction,\n",
    "                                             test_symptoms_type = test_symptoms_type, \n",
    "                                             tp_rate = tp_rate, \n",
    "                                             tn_rate = tn_rate)"
   ]
  },
  {
   "cell_type": "markdown",
   "metadata": {},
   "source": [
    "#### Running the CT ranking method"
   ]
  },
  {
   "cell_type": "code",
   "execution_count": 7,
   "metadata": {},
   "outputs": [
    {
     "name": "stdout",
     "output_type": "stream",
     "text": [
      "Total infected at time 100 for CT : 36079\n"
     ]
    }
   ],
   "source": [
    "timeseries_sim_CT = run_intervention_model(ranked_method = Contact_Tracing(gamma = gamma), \n",
    "                                           n_total = n_total, \n",
    "                                           initial_inf = initial_inf,\n",
    "                                           t_0 = t_0,\n",
    "                                           t_end = T,\n",
    "                                           test_availables = test_availables,\n",
    "                                           quarantine_household = qh,                                             \n",
    "                                           test_household = th,\n",
    "                                           p_SS = p_SS,\n",
    "                                           p_SM = p_SM,                                              \n",
    "                                           seed = seed, \n",
    "                                           seed_open_ABM = seed_open_ABM,\n",
    "                                           output_dir= output_dir,\n",
    "                                           time_infection = time_infection,\n",
    "                                           quarantined_random_interactions = qri,\n",
    "                                           quarantine_adoption_fraction = quarantine_adoption_fraction,\n",
    "                                           test_symptoms_type = test_symptoms_type, \n",
    "                                           tp_rate = tp_rate, \n",
    "                                           tn_rate = tn_rate)\n"
   ]
  },
  {
   "cell_type": "markdown",
   "metadata": {},
   "source": [
    "#### Running the RS ranking method"
   ]
  },
  {
   "cell_type": "code",
   "execution_count": 8,
   "metadata": {},
   "outputs": [
    {
     "name": "stdout",
     "output_type": "stream",
     "text": [
      "Total infected at time 100 for RS : 37083\n"
     ]
    }
   ],
   "source": [
    "timeseries_sim_RS = run_intervention_model(ranked_method = Random_Selection(), \n",
    "                                           n_total = n_total, \n",
    "                                           initial_inf = initial_inf,\n",
    "                                           t_0 = t_0,\n",
    "                                           t_end = T,\n",
    "                                           test_availables = test_availables,\n",
    "                                           quarantine_household = qh,                                             \n",
    "                                           test_household = th,\n",
    "                                           p_SS = p_SS,\n",
    "                                           p_SM = p_SM,                                              \n",
    "                                           seed = seed, \n",
    "                                           seed_open_ABM = seed_open_ABM,\n",
    "                                           output_dir= output_dir,\n",
    "                                           time_infection = time_infection,\n",
    "                                           quarantined_random_interactions = qri,\n",
    "                                           quarantine_adoption_fraction = quarantine_adoption_fraction,\n",
    "                                           test_symptoms_type = test_symptoms_type, \n",
    "                                           tp_rate = tp_rate, \n",
    "                                           tn_rate = tn_rate)"
   ]
  },
  {
   "cell_type": "markdown",
   "metadata": {},
   "source": [
    "### Plot "
   ]
  },
  {
   "cell_type": "code",
   "execution_count": 9,
   "metadata": {},
   "outputs": [],
   "source": [
    "import matplotlib.pyplot as plt"
   ]
  },
  {
   "cell_type": "code",
   "execution_count": 10,
   "metadata": {},
   "outputs": [
    {
     "data": {
      "image/png": "[encoded data removed]",
      "text/plain": [
       "<Figure size 432x288 with 1 Axes>"
      ]
     },
     "metadata": {
      "needs_background": "light"
     },
     "output_type": "display_data"
    }
   ],
   "source": [
    "fig, ax = plt.subplots()\n",
    "\n",
    "ax.plot(timeseries_sim_2_CT[\"time\"],timeseries_sim_2_CT[\"active\"], label = '2°CT')\n",
    "ax.plot(timeseries_sim_1_CT[\"time\"],timeseries_sim_1_CT[\"active\"], label = '1°CT')\n",
    "ax.plot(timeseries_sim_CT[\"time\"],timeseries_sim_CT[\"active\"], label = 'CT')\n",
    "ax.plot(timeseries_sim_RS[\"time\"],timeseries_sim_RS[\"active\"], label = 'RS')\n",
    "\n",
    "leg = ax.legend();\n",
    "\n",
    "plt.semilogy()\n",
    "plt.ylim([1,2**15])\n",
    "plt.ylabel(\"Infected\")\n",
    "plt.xlabel(\"days\")\n",
    "plt.legend()\n",
    "plt.show()"
   ]
  },
  {
   "cell_type": "code",
   "execution_count": null,
   "metadata": {},
   "outputs": [],
   "source": []
  }
 ],
 "metadata": {
  "kernelspec": {
   "display_name": "Python 3 (ipykernel)",
   "language": "python",
   "name": "python3"
  },
  "language_info": {
   "codemirror_mode": {
    "name": "ipython",
    "version": 3
   },
   "file_extension": ".py",
   "mimetype": "text/x-python",
   "name": "python",
   "nbconvert_exporter": "python",
   "pygments_lexer": "ipython3",
   "version": "3.8.5"
  }
 },
 "nbformat": 4,
 "nbformat_minor": 4
}
