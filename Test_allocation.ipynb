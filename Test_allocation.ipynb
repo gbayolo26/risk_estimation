{
 "cells": [
  {
   "cell_type": "markdown",
   "metadata": {},
   "source": [
    "# Test allocation based on risk of infection from first and second order contact tracing"
   ]
  },
  {
   "cell_type": "markdown",
   "metadata": {},
   "source": [
    "### Set the parameters on the Open ABM model"
   ]
  },
  {
   "cell_type": "code",
   "execution_count": 1,
   "metadata": {},
   "outputs": [],
   "source": [
    "n_total = 50000 #number of individuals \n",
    "initial_inf = 10 #number of patients zero\n",
    "T = 30 #number of days\n",
    "seed_open_ABM = 1 # seed for the Open ABM \n",
    "quarantined_random_interactions = 0 #type of quarantine (1: work, 0: work and random)"
   ]
  },
  {
   "cell_type": "markdown",
   "metadata": {},
   "source": [
    "### Set the parameters on the intervention method"
   ]
  },
  {
   "cell_type": "code",
   "execution_count": 2,
   "metadata": {},
   "outputs": [],
   "source": [
    "t_0 = 12  #time to start the intervention method\n",
    "test_availables = 125 #number of daily tests\n",
    "quarantine_household =  False #to quarantine individuals in the same household \n",
    "test_household = False #to test individuals in the same hoisehold\n",
    "p_SS = 1 #proportion of individuals with severe symptomps detected by day\n",
    "p_SM = 0.75 #proportion of individuals with mild symptomps detected by day\n",
    "seed = 2 #seed for the ranking method (starts at 2 because seed = 1 is fixed for the random tests) \n",
    "days_of_quarantine = 100 #days of quarantine\n",
    "output_dir = \"./simulation_results/\"\n",
    "time_infection = 'estimation' #type of estimation for the time of infection ('estimation': tau, 'constant': alpha, True: real time of infection)"
   ]
  },
  {
   "cell_type": "markdown",
   "metadata": {},
   "source": [
    "### Set the parameters on the contact tracing method"
   ]
  },
  {
   "cell_type": "code",
   "execution_count": 3,
   "metadata": {},
   "outputs": [],
   "source": [
    "prob_function = 'lambda'\n",
    "gamma = 6\n",
    "delta = gamma + 3"
   ]
  },
  {
   "cell_type": "markdown",
   "metadata": {},
   "source": [
    "### Ranking methods"
   ]
  },
  {
   "cell_type": "code",
   "execution_count": 4,
   "metadata": {},
   "outputs": [],
   "source": [
    "from intervention_strategies.intervention_model import *\n",
    "from intervention_strategies.First_Degree_Contact_Tracing_Risk import *\n",
    "from intervention_strategies.Second_Degree_Contact_Tracing_Risk import *\n",
    "from intervention_strategies.Contact_Tracing import *\n",
    "from intervention_strategies.Random_Selection import *"
   ]
  },
  {
   "cell_type": "code",
   "execution_count": 5,
   "metadata": {},
   "outputs": [
    {
     "name": "stdout",
     "output_type": "stream",
     "text": [
      "CT method for seed 2\n",
      "CT method for seed 2\n",
      "CT method for seed 2\n",
      "CT method for seed 2\n"
     ]
    }
   ],
   "source": [
    "timeseries_sim_2_CT = run_intervention_model(ranked_method = Second_Degree_Contact_Tracing_Risk(gamma = gamma, delta = delta, prob_function = prob_function), \n",
    "                           test_availables = test_availables, seed = seed, p_SM = p_SM, time_infection = time_infection, t_end = T)\n",
    "\n",
    "timeseries_sim_1_CT = run_intervention_model(ranked_method = First_Degree_Contact_Tracing_Risk(gamma = gamma, prob_function = prob_function),  \n",
    "                           test_availables = test_availables, seed = seed, p_SM = p_SM, time_infection = time_infection, t_end = T)\n",
    "\n",
    "timeseries_sim_CT = run_intervention_model(ranked_method = Contact_Tracing(gamma = gamma), \n",
    "                           test_availables = test_availables, seed = seed, p_SM = p_SM, time_infection = time_infection, t_end = T)\n",
    "\n",
    "timeseries_sim_RS = run_intervention_model(ranked_method = Random_Selection(), \n",
    "                           test_availables = test_availables, seed = seed, p_SM = p_SM, time_infection = time_infection, t_end = T)"
   ]
  },
  {
   "cell_type": "markdown",
   "metadata": {},
   "source": [
    "### Plot "
   ]
  },
  {
   "cell_type": "code",
   "execution_count": 6,
   "metadata": {},
   "outputs": [],
   "source": [
    "import matplotlib.pyplot as plt"
   ]
  },
  {
   "cell_type": "code",
   "execution_count": 7,
   "metadata": {},
   "outputs": [
    {
     "data": {
      "image/png": "[encoded data removed]",
      "text/plain": [
       "<Figure size 432x288 with 1 Axes>"
      ]
     },
     "metadata": {
      "needs_background": "light"
     },
     "output_type": "display_data"
    }
   ],
   "source": [
    "fig, ax = plt.subplots()\n",
    "\n",
    "ax.plot(timeseries_sim_RS[\"time\"],timeseries_sim_RS[\"active\"], 'r', label = 'RS')\n",
    "ax.plot(timeseries_sim_CT[\"time\"],timeseries_sim_CT[\"active\"], 'b', label = 'CT')\n",
    "ax.plot(timeseries_sim_1_CT[\"time\"],timeseries_sim_1_CT[\"active\"], 'y', label = '1°CT')\n",
    "ax.plot(timeseries_sim_2_CT[\"time\"],timeseries_sim_2_CT[\"active\"], 'g', label = '2°CT')\n",
    "\n",
    "leg = ax.legend();\n",
    "\n",
    "plt.semilogy()\n",
    "plt.ylim([1,2**15])\n",
    "plt.ylabel(\"Infected\")\n",
    "plt.xlabel(\"days\")\n",
    "plt.legend()\n",
    "plt.show()"
   ]
  },
  {
   "cell_type": "code",
   "execution_count": null,
   "metadata": {},
   "outputs": [],
   "source": []
  }
 ],
 "metadata": {
  "kernelspec": {
   "display_name": "Python 3 (ipykernel)",
   "language": "python",
   "name": "python3"
  },
  "language_info": {
   "codemirror_mode": {
    "name": "ipython",
    "version": 3
   },
   "file_extension": ".py",
   "mimetype": "text/x-python",
   "name": "python",
   "nbconvert_exporter": "python",
   "pygments_lexer": "ipython3",
   "version": "3.8.5"
  }
 },
 "nbformat": 4,
 "nbformat_minor": 4
}
